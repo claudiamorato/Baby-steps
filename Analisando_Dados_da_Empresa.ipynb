{
  "nbformat": 4,
  "nbformat_minor": 0,
  "metadata": {
    "colab": {
      "name": "Analisando Dados da Empresa.ipynb",
      "provenance": [],
      "collapsed_sections": [],
      "include_colab_link": true
    },
    "kernelspec": {
      "name": "python3",
      "display_name": "Python 3"
    }
  },
  "cells": [
    {
      "cell_type": "markdown",
      "metadata": {
        "id": "view-in-github",
        "colab_type": "text"
      },
      "source": [
        "<a href=\"https://colab.research.google.com/github/claudiamorato/Baby-steps/blob/master/Analisando_Dados_da_Empresa.ipynb\" target=\"_parent\"><img src=\"https://colab.research.google.com/assets/colab-badge.svg\" alt=\"Open In Colab\"/></a>"
      ]
    },
    {
      "cell_type": "markdown",
      "metadata": {
        "id": "8cv0NXjOpqHw",
        "colab_type": "text"
      },
      "source": [
        "<img alt=\"Colaboratory logo\" width=\"15%\" src=\"https://raw.githubusercontent.com/carlosfab/escola-data-science/master/img/novo_logo_bg_claro.png\">\n",
        "\n",
        "#### **Python do Zero**\n",
        "*by [sigmoidal.ai](https://sigmoidal.ai)*\n",
        "\n",
        "---\n",
        "\n",
        "\n",
        "## Analisando Dados da Empresa com Python\n",
        "\n",
        "Focando sempre na prática, já vamos ter o nosso primeiro projeto. Aqui vamos ver na prática o poder e quantidade de tempo e trabalho que pode ser poupado em nossas rotinas diárias com **Python**.\n",
        "\n",
        "Nesse projeto, vamos analisar dados de estoque de uma empresa utilizando Python e uma das bibliotecas mais amplamente utilizadas quando se fala em Análise de Dados com Python: o Pandas.\n",
        "\n",
        "<center><img width=\"35%\" src=\"https://image.freepik.com/free-vector/warehouse-worker-checking-inventory_3446-395.jpg\n",
        "\"></center>\n",
        "\n",
        "\n",
        "#### Importando uma biblioteca para manipular planilhas\n",
        "\n",
        "O [Pandas](https://pandas.pydata.org/docs/) é uma biblioteca *Open Source* de Python extremamente poderosa que é amplamente utilizada para análise de dados. Uma de suas facilidades é a apresentação tabular (por tabelas) dos dados, o que se assemelha muito ao formato de Excel que estamos acostumados.\n",
        "\n",
        "Essa familiaridade unida ao poder do Pandas o tornam uma ferramenta imprescindível no dia a dia de qualquer programador Python que trabalha com dados.\n",
        "\n",
        "Como estamos falando de uma biblioteca, e não do Python nativo, precisamos importá-la. Isso é feito com o comando: `import`. Usamos esse comando sempre que vamos importar uma nova biblioteca.\n",
        "\n",
        "Mas pandas é um nome maior do que o necessário, o que pode atrapalhar nosso fluxo de trabalho. Por isso, é comum usarmos *aliases*, ou \"apelidos\" para as bibliotecas. Fazemos isso usando o `as`.\n",
        "\n",
        "Então quando digitamos:\n",
        "\n",
        "`import pandas as pd`\n",
        "\n",
        "Estamos dizendo para o Python que:\n",
        "\n",
        "`import` o Pandas `como` pd\n",
        "\n",
        "Ainda sobre *aliases*, é importante saber que podemos dar a eles o nome que preferirmos, mas o ideal é usar a convenção entre os programadores. Isso vai facilitar a leitura do seu código para outras pessoas, e usando isso no seu, você se acostuma a ver isso nos códigos de outras pessoas, o que facilita seu entendimento e aprendizado."
      ]
    },
    {
      "cell_type": "code",
      "metadata": {
        "id": "OZqimCFSnSfE",
        "colab_type": "code",
        "colab": {}
      },
      "source": [
        "# importar os pacotes necessários\n",
        "import pandas as pd"
      ],
      "execution_count": null,
      "outputs": []
    },
    {
      "cell_type": "markdown",
      "metadata": {
        "id": "mnW-UPA2oezb",
        "colab_type": "text"
      },
      "source": [
        "#### Importar uma planilha de Excel usando a biblioteca `pandas` do Python\n",
        "\n",
        "Agora que já importamos nosso pacote, é hora de caregarmos nossa planilha pra dentro do Colab. Para isso, baixe o arquivo disponível nos links úteis desta aula, abra a aba à esquerda aqui do seu navegador, e arraste o arquivo da planilha pra lá. Lembre-se, essses uploads são temporários, e terão que ser feitos novamente toda vez que o notebook for aberto. \n",
        "\n",
        "Para ler arquivos excel usar função do pandas `pd.read_excel` e , ao carregar a planilha, vamos dar um nome a ela, associando o arquivo a uma variável.\n",
        "\n",
        "Para importar a planilha com o Pandas, clique com o botão direto no arquivo que você importou dentro da aba à esquerda, e selecione a opção *copy path* para que o pandas saiba onde está o arquivo. Também vamos passar o parâmetro `None`, para carregar todas as abas da planilha."
      ]
    },
    {
      "cell_type": "code",
      "metadata": {
        "id": "6nALiw1AoHPw",
        "colab_type": "code",
        "colab": {}
      },
      "source": [
        "# importar planilha do Excel\n",
        "planilha = pd.read_excel(\"/content/controle_da_empresa.xlsx\", None)"
      ],
      "execution_count": null,
      "outputs": []
    },
    {
      "cell_type": "markdown",
      "metadata": {
        "id": "ktu6AEKlovmV",
        "colab_type": "text"
      },
      "source": [
        "Pronto! nossa planilha foi carregada com sucesso. Ao executar a célula com o nome (variável) planilha, observe como todas as abas foram carregadas:"
      ]
    },
    {
      "cell_type": "code",
      "metadata": {
        "id": "7McdMsOhoYJI",
        "colab_type": "code",
        "colab": {
          "base_uri": "https://localhost:8080/",
          "height": 557
        },
        "outputId": "74d08a75-14c0-44f1-be76-0bb97f54986f"
      },
      "source": [
        "# executando a variável planilha\n",
        "planilha"
      ],
      "execution_count": null,
      "outputs": [
        {
          "output_type": "execute_result",
          "data": {
            "text/plain": [
              "{'Estoque':    Código                 Item  ...  Unidade de Medida  Estoque Atual\n",
              " 0  SIG001     Canon 6D Mark II  ...            Unidade             13\n",
              " 1  SIG002    Canon 5D Mark III  ...            Unidade              1\n",
              " 2  SIG003     Lente 85mm f/1.4  ...            Unidade              6\n",
              " 3  SIG004     Lente 50mm f/1.4  ...            Unidade             10\n",
              " 4  SIG005  Lente 16-35mm f/2.8  ...            Unidade             11\n",
              " 5  SIG006     Filtro ND 2 Stop  ...            Unidade             20\n",
              " 6  SIG007     Filtro ND 3 Stop  ...            Unidade             21\n",
              " 7  SIG008     Filtro ND 5 Stop  ...            Unidade             18\n",
              " 8  SIG009      DJI Mavic Air 2  ...            Unidade              2\n",
              " 9  SIG010          DJI Ronin-S  ...            Unidade              1\n",
              " \n",
              " [10 rows x 7 columns], 'Funcionários':   Funcionário  Total de Vendas\n",
              " 0      Carlos           205301\n",
              " 1    Fernanda           204982\n",
              " 2        Theo           272816\n",
              " 3      Raquel           172700, 'Vendas':    Data da Venda                 Item  ...  Preço Unitário Total de Vendas\n",
              " 0     2020-01-02     Filtro ND 5 Stop  ...            1220            2440\n",
              " 1     2020-01-03     Filtro ND 5 Stop  ...            1220            2440\n",
              " 2     2020-01-03  Lente 16-35mm f/2.8  ...            8997           17994\n",
              " 3     2020-01-04  Lente 16-35mm f/2.8  ...            8997           17994\n",
              " 4     2020-01-04     Filtro ND 3 Stop  ...            1220            1220\n",
              " ..           ...                  ...  ...             ...             ...\n",
              " 85    2020-01-29  Lente 16-35mm f/2.8  ...            8997           17994\n",
              " 86    2020-01-29     Filtro ND 2 Stop  ...            1220            1220\n",
              " 87    2020-01-30     Filtro ND 3 Stop  ...            1220            2440\n",
              " 88    2020-01-30     Filtro ND 5 Stop  ...            1220            2440\n",
              " 89    2020-01-31     Lente 50mm f/1.4  ...            1649            3298\n",
              " \n",
              " [90 rows x 6 columns]}"
            ]
          },
          "metadata": {
            "tags": []
          },
          "execution_count": 3
        }
      ]
    },
    {
      "cell_type": "markdown",
      "metadata": {
        "id": "qPuzFvnTocmQ",
        "colab_type": "text"
      },
      "source": [
        "#### Acessando uma aba específica da planilha\n",
        "\n",
        "Em uma planilha com mais de uma aba como a nossa, podemos carregar a aba `Estoque`, por exemplo, executando o comando `planilha[\"Estoque\"]`. Basta colocar entre parêntesis, dentro dos colchetes o nome da aba.\n",
        "\n",
        "Lembre-se que o Python é *case sensitive*, ou seja, ele é sensível à variação entre maiúsculas e minúsculas. Portanto, para o Python, estoque é diferente de Estoque."
      ]
    },
    {
      "cell_type": "code",
      "metadata": {
        "id": "0eUK2UuYqbDX",
        "colab_type": "code",
        "colab": {
          "base_uri": "https://localhost:8080/",
          "height": 359
        },
        "outputId": "3efd8970-e3c7-44cd-80c2-3cf7ae377ca7"
      },
      "source": [
        "# visualizando a aba Estoque\n",
        "planilha[\"Estoque\"]"
      ],
      "execution_count": null,
      "outputs": [
        {
          "output_type": "execute_result",
          "data": {
            "text/html": [
              "<div>\n",
              "<style scoped>\n",
              "    .dataframe tbody tr th:only-of-type {\n",
              "        vertical-align: middle;\n",
              "    }\n",
              "\n",
              "    .dataframe tbody tr th {\n",
              "        vertical-align: top;\n",
              "    }\n",
              "\n",
              "    .dataframe thead th {\n",
              "        text-align: right;\n",
              "    }\n",
              "</style>\n",
              "<table border=\"1\" class=\"dataframe\">\n",
              "  <thead>\n",
              "    <tr style=\"text-align: right;\">\n",
              "      <th></th>\n",
              "      <th>Código</th>\n",
              "      <th>Item</th>\n",
              "      <th>Estoque Mínimo</th>\n",
              "      <th>Custo da Unidade</th>\n",
              "      <th>Preço da Unidade</th>\n",
              "      <th>Unidade de Medida</th>\n",
              "      <th>Estoque Atual</th>\n",
              "    </tr>\n",
              "  </thead>\n",
              "  <tbody>\n",
              "    <tr>\n",
              "      <th>0</th>\n",
              "      <td>SIG001</td>\n",
              "      <td>Canon 6D Mark II</td>\n",
              "      <td>5</td>\n",
              "      <td>8500</td>\n",
              "      <td>8500</td>\n",
              "      <td>Unidade</td>\n",
              "      <td>13</td>\n",
              "    </tr>\n",
              "    <tr>\n",
              "      <th>1</th>\n",
              "      <td>SIG002</td>\n",
              "      <td>Canon 5D Mark III</td>\n",
              "      <td>2</td>\n",
              "      <td>9500</td>\n",
              "      <td>13650</td>\n",
              "      <td>Unidade</td>\n",
              "      <td>1</td>\n",
              "    </tr>\n",
              "    <tr>\n",
              "      <th>2</th>\n",
              "      <td>SIG003</td>\n",
              "      <td>Lente 85mm f/1.4</td>\n",
              "      <td>8</td>\n",
              "      <td>7000</td>\n",
              "      <td>9989</td>\n",
              "      <td>Unidade</td>\n",
              "      <td>6</td>\n",
              "    </tr>\n",
              "    <tr>\n",
              "      <th>3</th>\n",
              "      <td>SIG004</td>\n",
              "      <td>Lente 50mm f/1.4</td>\n",
              "      <td>8</td>\n",
              "      <td>900</td>\n",
              "      <td>1649</td>\n",
              "      <td>Unidade</td>\n",
              "      <td>10</td>\n",
              "    </tr>\n",
              "    <tr>\n",
              "      <th>4</th>\n",
              "      <td>SIG005</td>\n",
              "      <td>Lente 16-35mm f/2.8</td>\n",
              "      <td>8</td>\n",
              "      <td>6120</td>\n",
              "      <td>8997</td>\n",
              "      <td>Unidade</td>\n",
              "      <td>11</td>\n",
              "    </tr>\n",
              "    <tr>\n",
              "      <th>5</th>\n",
              "      <td>SIG006</td>\n",
              "      <td>Filtro ND 2 Stop</td>\n",
              "      <td>2</td>\n",
              "      <td>450</td>\n",
              "      <td>1220</td>\n",
              "      <td>Unidade</td>\n",
              "      <td>20</td>\n",
              "    </tr>\n",
              "    <tr>\n",
              "      <th>6</th>\n",
              "      <td>SIG007</td>\n",
              "      <td>Filtro ND 3 Stop</td>\n",
              "      <td>2</td>\n",
              "      <td>450</td>\n",
              "      <td>1220</td>\n",
              "      <td>Unidade</td>\n",
              "      <td>21</td>\n",
              "    </tr>\n",
              "    <tr>\n",
              "      <th>7</th>\n",
              "      <td>SIG008</td>\n",
              "      <td>Filtro ND 5 Stop</td>\n",
              "      <td>2</td>\n",
              "      <td>450</td>\n",
              "      <td>1220</td>\n",
              "      <td>Unidade</td>\n",
              "      <td>18</td>\n",
              "    </tr>\n",
              "    <tr>\n",
              "      <th>8</th>\n",
              "      <td>SIG009</td>\n",
              "      <td>DJI Mavic Air 2</td>\n",
              "      <td>1</td>\n",
              "      <td>10890</td>\n",
              "      <td>13580</td>\n",
              "      <td>Unidade</td>\n",
              "      <td>2</td>\n",
              "    </tr>\n",
              "    <tr>\n",
              "      <th>9</th>\n",
              "      <td>SIG010</td>\n",
              "      <td>DJI Ronin-S</td>\n",
              "      <td>1</td>\n",
              "      <td>3980</td>\n",
              "      <td>5790</td>\n",
              "      <td>Unidade</td>\n",
              "      <td>1</td>\n",
              "    </tr>\n",
              "  </tbody>\n",
              "</table>\n",
              "</div>"
            ],
            "text/plain": [
              "   Código                 Item  ...  Unidade de Medida  Estoque Atual\n",
              "0  SIG001     Canon 6D Mark II  ...            Unidade             13\n",
              "1  SIG002    Canon 5D Mark III  ...            Unidade              1\n",
              "2  SIG003     Lente 85mm f/1.4  ...            Unidade              6\n",
              "3  SIG004     Lente 50mm f/1.4  ...            Unidade             10\n",
              "4  SIG005  Lente 16-35mm f/2.8  ...            Unidade             11\n",
              "5  SIG006     Filtro ND 2 Stop  ...            Unidade             20\n",
              "6  SIG007     Filtro ND 3 Stop  ...            Unidade             21\n",
              "7  SIG008     Filtro ND 5 Stop  ...            Unidade             18\n",
              "8  SIG009      DJI Mavic Air 2  ...            Unidade              2\n",
              "9  SIG010          DJI Ronin-S  ...            Unidade              1\n",
              "\n",
              "[10 rows x 7 columns]"
            ]
          },
          "metadata": {
            "tags": []
          },
          "execution_count": 4
        }
      ]
    },
    {
      "cell_type": "markdown",
      "metadata": {
        "id": "ojoCMLBLqc9B",
        "colab_type": "text"
      },
      "source": [
        "Agora que já sabemos carregar abas específicas, podemos dar uma olhada em outras abas da planilha, como por exemplo, a aba `Vendas`.\n",
        "\n",
        "Para carregar a aba `Vendas`, digitamos `planilha[\"Vendas\"]`."
      ]
    },
    {
      "cell_type": "code",
      "metadata": {
        "id": "jGPfps20qo2J",
        "colab_type": "code",
        "colab": {
          "base_uri": "https://localhost:8080/",
          "height": 419
        },
        "outputId": "5bbf9b0b-0e38-4d04-b57a-08fc4ade0af4"
      },
      "source": [
        "# visualizando a aba Vendas\n",
        "planilha[\"Vendas\"]"
      ],
      "execution_count": null,
      "outputs": [
        {
          "output_type": "execute_result",
          "data": {
            "text/html": [
              "<div>\n",
              "<style scoped>\n",
              "    .dataframe tbody tr th:only-of-type {\n",
              "        vertical-align: middle;\n",
              "    }\n",
              "\n",
              "    .dataframe tbody tr th {\n",
              "        vertical-align: top;\n",
              "    }\n",
              "\n",
              "    .dataframe thead th {\n",
              "        text-align: right;\n",
              "    }\n",
              "</style>\n",
              "<table border=\"1\" class=\"dataframe\">\n",
              "  <thead>\n",
              "    <tr style=\"text-align: right;\">\n",
              "      <th></th>\n",
              "      <th>Data da Venda</th>\n",
              "      <th>Item</th>\n",
              "      <th>Quantidade</th>\n",
              "      <th>Vendedor</th>\n",
              "      <th>Preço Unitário</th>\n",
              "      <th>Total de Vendas</th>\n",
              "    </tr>\n",
              "  </thead>\n",
              "  <tbody>\n",
              "    <tr>\n",
              "      <th>0</th>\n",
              "      <td>2020-01-02</td>\n",
              "      <td>Filtro ND 5 Stop</td>\n",
              "      <td>2</td>\n",
              "      <td>Raquel</td>\n",
              "      <td>1220</td>\n",
              "      <td>2440</td>\n",
              "    </tr>\n",
              "    <tr>\n",
              "      <th>1</th>\n",
              "      <td>2020-01-03</td>\n",
              "      <td>Filtro ND 5 Stop</td>\n",
              "      <td>2</td>\n",
              "      <td>Raquel</td>\n",
              "      <td>1220</td>\n",
              "      <td>2440</td>\n",
              "    </tr>\n",
              "    <tr>\n",
              "      <th>2</th>\n",
              "      <td>2020-01-03</td>\n",
              "      <td>Lente 16-35mm f/2.8</td>\n",
              "      <td>2</td>\n",
              "      <td>Carlos</td>\n",
              "      <td>8997</td>\n",
              "      <td>17994</td>\n",
              "    </tr>\n",
              "    <tr>\n",
              "      <th>3</th>\n",
              "      <td>2020-01-04</td>\n",
              "      <td>Lente 16-35mm f/2.8</td>\n",
              "      <td>2</td>\n",
              "      <td>Fernanda</td>\n",
              "      <td>8997</td>\n",
              "      <td>17994</td>\n",
              "    </tr>\n",
              "    <tr>\n",
              "      <th>4</th>\n",
              "      <td>2020-01-04</td>\n",
              "      <td>Filtro ND 3 Stop</td>\n",
              "      <td>1</td>\n",
              "      <td>Raquel</td>\n",
              "      <td>1220</td>\n",
              "      <td>1220</td>\n",
              "    </tr>\n",
              "    <tr>\n",
              "      <th>...</th>\n",
              "      <td>...</td>\n",
              "      <td>...</td>\n",
              "      <td>...</td>\n",
              "      <td>...</td>\n",
              "      <td>...</td>\n",
              "      <td>...</td>\n",
              "    </tr>\n",
              "    <tr>\n",
              "      <th>85</th>\n",
              "      <td>2020-01-29</td>\n",
              "      <td>Lente 16-35mm f/2.8</td>\n",
              "      <td>2</td>\n",
              "      <td>Theo</td>\n",
              "      <td>8997</td>\n",
              "      <td>17994</td>\n",
              "    </tr>\n",
              "    <tr>\n",
              "      <th>86</th>\n",
              "      <td>2020-01-29</td>\n",
              "      <td>Filtro ND 2 Stop</td>\n",
              "      <td>1</td>\n",
              "      <td>Fernanda</td>\n",
              "      <td>1220</td>\n",
              "      <td>1220</td>\n",
              "    </tr>\n",
              "    <tr>\n",
              "      <th>87</th>\n",
              "      <td>2020-01-30</td>\n",
              "      <td>Filtro ND 3 Stop</td>\n",
              "      <td>2</td>\n",
              "      <td>Fernanda</td>\n",
              "      <td>1220</td>\n",
              "      <td>2440</td>\n",
              "    </tr>\n",
              "    <tr>\n",
              "      <th>88</th>\n",
              "      <td>2020-01-30</td>\n",
              "      <td>Filtro ND 5 Stop</td>\n",
              "      <td>2</td>\n",
              "      <td>Raquel</td>\n",
              "      <td>1220</td>\n",
              "      <td>2440</td>\n",
              "    </tr>\n",
              "    <tr>\n",
              "      <th>89</th>\n",
              "      <td>2020-01-31</td>\n",
              "      <td>Lente 50mm f/1.4</td>\n",
              "      <td>2</td>\n",
              "      <td>Carlos</td>\n",
              "      <td>1649</td>\n",
              "      <td>3298</td>\n",
              "    </tr>\n",
              "  </tbody>\n",
              "</table>\n",
              "<p>90 rows × 6 columns</p>\n",
              "</div>"
            ],
            "text/plain": [
              "   Data da Venda                 Item  ...  Preço Unitário Total de Vendas\n",
              "0     2020-01-02     Filtro ND 5 Stop  ...            1220            2440\n",
              "1     2020-01-03     Filtro ND 5 Stop  ...            1220            2440\n",
              "2     2020-01-03  Lente 16-35mm f/2.8  ...            8997           17994\n",
              "3     2020-01-04  Lente 16-35mm f/2.8  ...            8997           17994\n",
              "4     2020-01-04     Filtro ND 3 Stop  ...            1220            1220\n",
              "..           ...                  ...  ...             ...             ...\n",
              "85    2020-01-29  Lente 16-35mm f/2.8  ...            8997           17994\n",
              "86    2020-01-29     Filtro ND 2 Stop  ...            1220            1220\n",
              "87    2020-01-30     Filtro ND 3 Stop  ...            1220            2440\n",
              "88    2020-01-30     Filtro ND 5 Stop  ...            1220            2440\n",
              "89    2020-01-31     Lente 50mm f/1.4  ...            1649            3298\n",
              "\n",
              "[90 rows x 6 columns]"
            ]
          },
          "metadata": {
            "tags": []
          },
          "execution_count": 5
        }
      ]
    },
    {
      "cell_type": "markdown",
      "metadata": {
        "id": "607XSmHAqq3h",
        "colab_type": "text"
      },
      "source": [
        "Também é bastante útil visualizar as abas existentes na planilha carregada. Isso é essencial ao carregar um arquivo que você não conhece ainda, ou até mesmo para garantir que um que você já conhece foi carregado corretamente. \n",
        "\n",
        "Para descobrir o nome de todas as abas carregadas, executamos `planilha.keys()`. "
      ]
    },
    {
      "cell_type": "code",
      "metadata": {
        "id": "jbQka45bqz6i",
        "colab_type": "code",
        "colab": {
          "base_uri": "https://localhost:8080/",
          "height": 35
        },
        "outputId": "2d835808-d6a5-4674-8213-75234c3e3c36"
      },
      "source": [
        "# verificando as abas da planilha\n",
        "planilha.keys()"
      ],
      "execution_count": null,
      "outputs": [
        {
          "output_type": "execute_result",
          "data": {
            "text/plain": [
              "dict_keys(['Estoque', 'Vendas', 'Funcionários'])"
            ]
          },
          "metadata": {
            "tags": []
          },
          "execution_count": 6
        }
      ]
    },
    {
      "cell_type": "markdown",
      "metadata": {
        "id": "lXto8oyfq1M_",
        "colab_type": "text"
      },
      "source": [
        "#### Acessar uma coluna específica da planilha\n",
        "\n",
        "Já verificamos a planilha inteira, já entramos em diferentes abas, mas como podemos verificar coisas ainda mais específicas? E se quiséssemos acessar uma coluna dentro de uma das abas?\n",
        "\n",
        "Para fazer isso, vamos acessar a coluna `Total de Vendas` da aba `Vendas` como exemplo.\n",
        "\n",
        "Basta executar `planilha['aba']['coluna']`.\n",
        "\n",
        "Veja abaixo:"
      ]
    },
    {
      "cell_type": "code",
      "metadata": {
        "id": "XFNeBn-fq99N",
        "colab_type": "code",
        "colab": {
          "base_uri": "https://localhost:8080/",
          "height": 233
        },
        "outputId": "96cd8fe8-7e44-4925-c661-03d0fc0e3881"
      },
      "source": [
        "# acessando uma coluna dentro de uma aba\n",
        "planilha[\"Vendas\"][\"Total de Vendas\"]"
      ],
      "execution_count": null,
      "outputs": [
        {
          "output_type": "execute_result",
          "data": {
            "text/plain": [
              "0      2440\n",
              "1      2440\n",
              "2     17994\n",
              "3     17994\n",
              "4      1220\n",
              "      ...  \n",
              "85    17994\n",
              "86     1220\n",
              "87     2440\n",
              "88     2440\n",
              "89     3298\n",
              "Name: Total de Vendas, Length: 90, dtype: int64"
            ]
          },
          "metadata": {
            "tags": []
          },
          "execution_count": 7
        }
      ]
    },
    {
      "cell_type": "markdown",
      "metadata": {
        "id": "n48j8FsjrI4I",
        "colab_type": "text"
      },
      "source": [
        "Acessar as colunas já é bacana, mas precisamos ir além, e conseguir manipular esses valores. Para somar todos os valores, utilizamos o comando `sum`."
      ]
    },
    {
      "cell_type": "code",
      "metadata": {
        "id": "vVrJviVarNyx",
        "colab_type": "code",
        "colab": {
          "base_uri": "https://localhost:8080/",
          "height": 35
        },
        "outputId": "c4b31adc-2ac1-4f2c-ccc2-08a1c214d873"
      },
      "source": [
        "# somando os valores de uma coluna\n",
        "planilha['Vendas']['Total de Vendas'].sum()"
      ],
      "execution_count": null,
      "outputs": [
        {
          "output_type": "execute_result",
          "data": {
            "text/plain": [
              "855799"
            ]
          },
          "metadata": {
            "tags": []
          },
          "execution_count": 8
        }
      ]
    },
    {
      "cell_type": "markdown",
      "metadata": {
        "id": "LNE9C6cirPeX",
        "colab_type": "text"
      },
      "source": [
        "Com Python, também é fácil calcular a média aritmética dos valores de uma coluna, basta usar o comando `mean`."
      ]
    },
    {
      "cell_type": "code",
      "metadata": {
        "id": "yj0qiXsTrSf5",
        "colab_type": "code",
        "colab": {
          "base_uri": "https://localhost:8080/",
          "height": 35
        },
        "outputId": "ce25156f-1ce3-4877-9b02-c33d5697f6e1"
      },
      "source": [
        "# calculando a média aritmética dos valores de uma coluna\n",
        "planilha['Vendas']['Total de Vendas'].mean()"
      ],
      "execution_count": null,
      "outputs": [
        {
          "output_type": "execute_result",
          "data": {
            "text/plain": [
              "9508.877777777778"
            ]
          },
          "metadata": {
            "tags": []
          },
          "execution_count": 9
        }
      ]
    },
    {
      "cell_type": "markdown",
      "metadata": {
        "id": "v4nee5yyrUWN",
        "colab_type": "text"
      },
      "source": [
        "Dentro de uma análise estatística, é muito importante entender a distribuição dos dados que estamos trabalhando, e um dos aspectos que precisamos analisar é o desvio padrão. \n",
        "\n",
        "Em termos simples, o desvio padrão é o quanto os valores analisados variam da média do conjunto. \n",
        "\n",
        "Com Python, encontrar esse valor é muito fácil. Basta usar o comando `std`, que vem de *Standard Deviation*, termo em inglês para desvio padrão."
      ]
    },
    {
      "cell_type": "code",
      "metadata": {
        "id": "XPSJO4r2rXkC",
        "colab_type": "code",
        "colab": {
          "base_uri": "https://localhost:8080/",
          "height": 35
        },
        "outputId": "a31da08d-aac4-44cd-d0b6-d06447d60392"
      },
      "source": [
        "# calculando o desvio padrão de uma coluna\n",
        "planilha['Vendas']['Total de Vendas'].std()"
      ],
      "execution_count": null,
      "outputs": [
        {
          "output_type": "execute_result",
          "data": {
            "text/plain": [
              "8509.90896560424"
            ]
          },
          "metadata": {
            "tags": []
          },
          "execution_count": 10
        }
      ]
    },
    {
      "cell_type": "markdown",
      "metadata": {
        "id": "6ZQKZhTmrYUw",
        "colab_type": "text"
      },
      "source": [
        "#### Gerando gráficos com dados da planilha\n",
        "\n",
        "Agora que já conseguimos carregar, ver dados tabulares, e manipular os dados de nossa planilha, é hora de ir além, e gerar visualizações.\n",
        "\n",
        "Existem muitas bibliotecas de Python criadas especificamente para visualizações, com alto poder gráfico, capazes de gerar visualizações incríveis, completas e complexas.\n",
        "\n",
        "Mas isso não significa que gerar visualizações informativas precisa ser difícil. O próprio Pandas facilita muito a nossa vida, criando visualizações de forma, simples, prática, fácil e eficaz.\n",
        "\n",
        "O Pandas já vem com uma infinidade de coisas implementada, inclusive capacidade de plotar gráficos."
      ]
    },
    {
      "cell_type": "code",
      "metadata": {
        "id": "sSkd1HL9rm2z",
        "colab_type": "code",
        "colab": {}
      },
      "source": [
        "# criar uma nova variável (pense como um atalho)\n",
        "vendas = planilha['Vendas']"
      ],
      "execution_count": null,
      "outputs": []
    },
    {
      "cell_type": "code",
      "metadata": {
        "id": "LWqwIRfWruXZ",
        "colab_type": "code",
        "colab": {
          "base_uri": "https://localhost:8080/",
          "height": 419
        },
        "outputId": "5e464f9a-c24e-449c-ac56-7e186fffb0f3"
      },
      "source": [
        "# visualizando a variável\n",
        "vendas"
      ],
      "execution_count": null,
      "outputs": [
        {
          "output_type": "execute_result",
          "data": {
            "text/html": [
              "<div>\n",
              "<style scoped>\n",
              "    .dataframe tbody tr th:only-of-type {\n",
              "        vertical-align: middle;\n",
              "    }\n",
              "\n",
              "    .dataframe tbody tr th {\n",
              "        vertical-align: top;\n",
              "    }\n",
              "\n",
              "    .dataframe thead th {\n",
              "        text-align: right;\n",
              "    }\n",
              "</style>\n",
              "<table border=\"1\" class=\"dataframe\">\n",
              "  <thead>\n",
              "    <tr style=\"text-align: right;\">\n",
              "      <th></th>\n",
              "      <th>Data da Venda</th>\n",
              "      <th>Item</th>\n",
              "      <th>Quantidade</th>\n",
              "      <th>Vendedor</th>\n",
              "      <th>Preço Unitário</th>\n",
              "      <th>Total de Vendas</th>\n",
              "    </tr>\n",
              "  </thead>\n",
              "  <tbody>\n",
              "    <tr>\n",
              "      <th>0</th>\n",
              "      <td>2020-01-02</td>\n",
              "      <td>Filtro ND 5 Stop</td>\n",
              "      <td>2</td>\n",
              "      <td>Raquel</td>\n",
              "      <td>1220</td>\n",
              "      <td>2440</td>\n",
              "    </tr>\n",
              "    <tr>\n",
              "      <th>1</th>\n",
              "      <td>2020-01-03</td>\n",
              "      <td>Filtro ND 5 Stop</td>\n",
              "      <td>2</td>\n",
              "      <td>Raquel</td>\n",
              "      <td>1220</td>\n",
              "      <td>2440</td>\n",
              "    </tr>\n",
              "    <tr>\n",
              "      <th>2</th>\n",
              "      <td>2020-01-03</td>\n",
              "      <td>Lente 16-35mm f/2.8</td>\n",
              "      <td>2</td>\n",
              "      <td>Carlos</td>\n",
              "      <td>8997</td>\n",
              "      <td>17994</td>\n",
              "    </tr>\n",
              "    <tr>\n",
              "      <th>3</th>\n",
              "      <td>2020-01-04</td>\n",
              "      <td>Lente 16-35mm f/2.8</td>\n",
              "      <td>2</td>\n",
              "      <td>Fernanda</td>\n",
              "      <td>8997</td>\n",
              "      <td>17994</td>\n",
              "    </tr>\n",
              "    <tr>\n",
              "      <th>4</th>\n",
              "      <td>2020-01-04</td>\n",
              "      <td>Filtro ND 3 Stop</td>\n",
              "      <td>1</td>\n",
              "      <td>Raquel</td>\n",
              "      <td>1220</td>\n",
              "      <td>1220</td>\n",
              "    </tr>\n",
              "    <tr>\n",
              "      <th>...</th>\n",
              "      <td>...</td>\n",
              "      <td>...</td>\n",
              "      <td>...</td>\n",
              "      <td>...</td>\n",
              "      <td>...</td>\n",
              "      <td>...</td>\n",
              "    </tr>\n",
              "    <tr>\n",
              "      <th>85</th>\n",
              "      <td>2020-01-29</td>\n",
              "      <td>Lente 16-35mm f/2.8</td>\n",
              "      <td>2</td>\n",
              "      <td>Theo</td>\n",
              "      <td>8997</td>\n",
              "      <td>17994</td>\n",
              "    </tr>\n",
              "    <tr>\n",
              "      <th>86</th>\n",
              "      <td>2020-01-29</td>\n",
              "      <td>Filtro ND 2 Stop</td>\n",
              "      <td>1</td>\n",
              "      <td>Fernanda</td>\n",
              "      <td>1220</td>\n",
              "      <td>1220</td>\n",
              "    </tr>\n",
              "    <tr>\n",
              "      <th>87</th>\n",
              "      <td>2020-01-30</td>\n",
              "      <td>Filtro ND 3 Stop</td>\n",
              "      <td>2</td>\n",
              "      <td>Fernanda</td>\n",
              "      <td>1220</td>\n",
              "      <td>2440</td>\n",
              "    </tr>\n",
              "    <tr>\n",
              "      <th>88</th>\n",
              "      <td>2020-01-30</td>\n",
              "      <td>Filtro ND 5 Stop</td>\n",
              "      <td>2</td>\n",
              "      <td>Raquel</td>\n",
              "      <td>1220</td>\n",
              "      <td>2440</td>\n",
              "    </tr>\n",
              "    <tr>\n",
              "      <th>89</th>\n",
              "      <td>2020-01-31</td>\n",
              "      <td>Lente 50mm f/1.4</td>\n",
              "      <td>2</td>\n",
              "      <td>Carlos</td>\n",
              "      <td>1649</td>\n",
              "      <td>3298</td>\n",
              "    </tr>\n",
              "  </tbody>\n",
              "</table>\n",
              "<p>90 rows × 6 columns</p>\n",
              "</div>"
            ],
            "text/plain": [
              "   Data da Venda                 Item  ...  Preço Unitário Total de Vendas\n",
              "0     2020-01-02     Filtro ND 5 Stop  ...            1220            2440\n",
              "1     2020-01-03     Filtro ND 5 Stop  ...            1220            2440\n",
              "2     2020-01-03  Lente 16-35mm f/2.8  ...            8997           17994\n",
              "3     2020-01-04  Lente 16-35mm f/2.8  ...            8997           17994\n",
              "4     2020-01-04     Filtro ND 3 Stop  ...            1220            1220\n",
              "..           ...                  ...  ...             ...             ...\n",
              "85    2020-01-29  Lente 16-35mm f/2.8  ...            8997           17994\n",
              "86    2020-01-29     Filtro ND 2 Stop  ...            1220            1220\n",
              "87    2020-01-30     Filtro ND 3 Stop  ...            1220            2440\n",
              "88    2020-01-30     Filtro ND 5 Stop  ...            1220            2440\n",
              "89    2020-01-31     Lente 50mm f/1.4  ...            1649            3298\n",
              "\n",
              "[90 rows x 6 columns]"
            ]
          },
          "metadata": {
            "tags": []
          },
          "execution_count": 12
        }
      ]
    },
    {
      "cell_type": "markdown",
      "metadata": {
        "id": "6HEc74ZKrw5y",
        "colab_type": "text"
      },
      "source": [
        "Para selecionar colunas, continuamos fazendo da mesma forma que fizemos anteriormente."
      ]
    },
    {
      "cell_type": "code",
      "metadata": {
        "id": "j2IwALxUruxm",
        "colab_type": "code",
        "colab": {
          "base_uri": "https://localhost:8080/",
          "height": 233
        },
        "outputId": "6241dc1c-044c-4e64-d6c9-b87272c48000"
      },
      "source": [
        "# selecionando uma coluna\n",
        "vendas[\"Total de Vendas\"]"
      ],
      "execution_count": null,
      "outputs": [
        {
          "output_type": "execute_result",
          "data": {
            "text/plain": [
              "0      2440\n",
              "1      2440\n",
              "2     17994\n",
              "3     17994\n",
              "4      1220\n",
              "      ...  \n",
              "85    17994\n",
              "86     1220\n",
              "87     2440\n",
              "88     2440\n",
              "89     3298\n",
              "Name: Total de Vendas, Length: 90, dtype: int64"
            ]
          },
          "metadata": {
            "tags": []
          },
          "execution_count": 13
        }
      ]
    },
    {
      "cell_type": "markdown",
      "metadata": {
        "id": "DJamu9sJr9y9",
        "colab_type": "text"
      },
      "source": [
        "Com as informações que temos, é possível plotar facilmente um **Gráfico de Linhas** que demonstre o total de vendas em um determinado período de tempo.\n",
        "\n",
        "No eixo X (horizontal) temos a data, e no eixo Y (vertical) o total de vendas."
      ]
    },
    {
      "cell_type": "code",
      "metadata": {
        "id": "hQUj6gRCr7CI",
        "colab_type": "code",
        "colab": {
          "base_uri": "https://localhost:8080/",
          "height": 303
        },
        "outputId": "02b75571-7645-4b43-fcd6-9b7d56b61c8c"
      },
      "source": [
        "# plotando gráfico de linhas\n",
        "vendas.plot(\"Data da Venda\", \"Total de Vendas\")"
      ],
      "execution_count": null,
      "outputs": [
        {
          "output_type": "execute_result",
          "data": {
            "text/plain": [
              "<matplotlib.axes._subplots.AxesSubplot at 0x7f8e3c0567f0>"
            ]
          },
          "metadata": {
            "tags": []
          },
          "execution_count": 14
        },
        {
          "output_type": "display_data",
          "data": {
            "image/png": "[encoded data removed]",
            "text/plain": [
              "<Figure size 432x288 with 1 Axes>"
            ]
          },
          "metadata": {
            "tags": [],
            "needs_background": "light"
          }
        }
      ]
    },
    {
      "cell_type": "markdown",
      "metadata": {
        "id": "6Y7VizCOsB3q",
        "colab_type": "text"
      },
      "source": [
        "Outra visualização bastante útil e informativa são os [Histogramas](https://pt.khanacademy.org/math/pt-8-ano/probabilidade-e-estatistica-8ano/graficos/a/histograma-grafico-de-barra). O Histograma é uma ferramenta estatística que nos ajuda a verificar a distribuição dos dados. Em termos simples, em determinados intervalos, temos *bins*, ou caixas, que recebem dados que estão dentro daquele intervalo. \n",
        "\n",
        "É importante não confundir essa visualização com gráficos de barras, pois são usados com objetivos diferentes. Clique [aqui](https://pt.khanacademy.org/math/pt-8-ano/probabilidade-e-estatistica-8ano/graficos/a/histograma-grafico-de-barra) caso queira se aprofundar nessas visualizações.\n",
        "\n",
        "De qualquer forma, plotar um histograma para ver quanto as pessoas costumam gastar, em sua maioria, por exemplo, é muito simples:"
      ]
    },
    {
      "cell_type": "code",
      "metadata": {
        "id": "4mtbVrhsscrq",
        "colab_type": "code",
        "colab": {
          "base_uri": "https://localhost:8080/",
          "height": 317
        },
        "outputId": "2b830646-9645-45f0-dd5c-2c6d80393599"
      },
      "source": [
        "# plotando histograma\n",
        "vendas.hist(\"Total de Vendas\")"
      ],
      "execution_count": null,
      "outputs": [
        {
          "output_type": "execute_result",
          "data": {
            "text/plain": [
              "array([[<matplotlib.axes._subplots.AxesSubplot object at 0x7f8e3bfb6400>]],\n",
              "      dtype=object)"
            ]
          },
          "metadata": {
            "tags": []
          },
          "execution_count": 15
        },
        {
          "output_type": "display_data",
          "data": {
            "image/png": "[encoded data removed]",
            "text/plain": [
              "<Figure size 432x288 with 1 Axes>"
            ]
          },
          "metadata": {
            "tags": [],
            "needs_background": "light"
          }
        }
      ]
    },
    {
      "cell_type": "markdown",
      "metadata": {
        "id": "Ao27sTdAst-_",
        "colab_type": "text"
      },
      "source": [
        "#### Algumas manipulações de datas (apenas para conhecimento)"
      ]
    },
    {
      "cell_type": "markdown",
      "metadata": {
        "id": "iIVfnabFwZit",
        "colab_type": "text"
      },
      "source": [
        "O Python com Pandas também nos possibilita a manipulação de dados organizados cronologicamente. \n",
        "\n",
        "Não se preocupe com isso nesse momento. Esse é apenas um exemplo pra mostrar as possibilidades que temos com Python em relação às datas, e como trabalhar com datas em Python pode ser muito mais fácil do que lidar com Excel."
      ]
    },
    {
      "cell_type": "markdown",
      "metadata": {
        "id": "-BPosCurwiNI",
        "colab_type": "text"
      },
      "source": [
        "Ao manipular datas com Python, podemos, por exemplo, plotar um histograma para analisarmos a distribuição das vendas por dia da semana."
      ]
    },
    {
      "cell_type": "code",
      "metadata": {
        "id": "BrJgnUM-s-lj",
        "colab_type": "code",
        "colab": {
          "base_uri": "https://localhost:8080/",
          "height": 419
        },
        "outputId": "79bdc375-f220-46a2-c460-e12f39250d11"
      },
      "source": [
        "# lendo a variável vendas\n",
        "vendas"
      ],
      "execution_count": null,
      "outputs": [
        {
          "output_type": "execute_result",
          "data": {
            "text/html": [
              "<div>\n",
              "<style scoped>\n",
              "    .dataframe tbody tr th:only-of-type {\n",
              "        vertical-align: middle;\n",
              "    }\n",
              "\n",
              "    .dataframe tbody tr th {\n",
              "        vertical-align: top;\n",
              "    }\n",
              "\n",
              "    .dataframe thead th {\n",
              "        text-align: right;\n",
              "    }\n",
              "</style>\n",
              "<table border=\"1\" class=\"dataframe\">\n",
              "  <thead>\n",
              "    <tr style=\"text-align: right;\">\n",
              "      <th></th>\n",
              "      <th>Data da Venda</th>\n",
              "      <th>Item</th>\n",
              "      <th>Quantidade</th>\n",
              "      <th>Vendedor</th>\n",
              "      <th>Preço Unitário</th>\n",
              "      <th>Total de Vendas</th>\n",
              "    </tr>\n",
              "  </thead>\n",
              "  <tbody>\n",
              "    <tr>\n",
              "      <th>0</th>\n",
              "      <td>2020-01-02</td>\n",
              "      <td>Filtro ND 5 Stop</td>\n",
              "      <td>2</td>\n",
              "      <td>Raquel</td>\n",
              "      <td>1220</td>\n",
              "      <td>2440</td>\n",
              "    </tr>\n",
              "    <tr>\n",
              "      <th>1</th>\n",
              "      <td>2020-01-03</td>\n",
              "      <td>Filtro ND 5 Stop</td>\n",
              "      <td>2</td>\n",
              "      <td>Raquel</td>\n",
              "      <td>1220</td>\n",
              "      <td>2440</td>\n",
              "    </tr>\n",
              "    <tr>\n",
              "      <th>2</th>\n",
              "      <td>2020-01-03</td>\n",
              "      <td>Lente 16-35mm f/2.8</td>\n",
              "      <td>2</td>\n",
              "      <td>Carlos</td>\n",
              "      <td>8997</td>\n",
              "      <td>17994</td>\n",
              "    </tr>\n",
              "    <tr>\n",
              "      <th>3</th>\n",
              "      <td>2020-01-04</td>\n",
              "      <td>Lente 16-35mm f/2.8</td>\n",
              "      <td>2</td>\n",
              "      <td>Fernanda</td>\n",
              "      <td>8997</td>\n",
              "      <td>17994</td>\n",
              "    </tr>\n",
              "    <tr>\n",
              "      <th>4</th>\n",
              "      <td>2020-01-04</td>\n",
              "      <td>Filtro ND 3 Stop</td>\n",
              "      <td>1</td>\n",
              "      <td>Raquel</td>\n",
              "      <td>1220</td>\n",
              "      <td>1220</td>\n",
              "    </tr>\n",
              "    <tr>\n",
              "      <th>...</th>\n",
              "      <td>...</td>\n",
              "      <td>...</td>\n",
              "      <td>...</td>\n",
              "      <td>...</td>\n",
              "      <td>...</td>\n",
              "      <td>...</td>\n",
              "    </tr>\n",
              "    <tr>\n",
              "      <th>85</th>\n",
              "      <td>2020-01-29</td>\n",
              "      <td>Lente 16-35mm f/2.8</td>\n",
              "      <td>2</td>\n",
              "      <td>Theo</td>\n",
              "      <td>8997</td>\n",
              "      <td>17994</td>\n",
              "    </tr>\n",
              "    <tr>\n",
              "      <th>86</th>\n",
              "      <td>2020-01-29</td>\n",
              "      <td>Filtro ND 2 Stop</td>\n",
              "      <td>1</td>\n",
              "      <td>Fernanda</td>\n",
              "      <td>1220</td>\n",
              "      <td>1220</td>\n",
              "    </tr>\n",
              "    <tr>\n",
              "      <th>87</th>\n",
              "      <td>2020-01-30</td>\n",
              "      <td>Filtro ND 3 Stop</td>\n",
              "      <td>2</td>\n",
              "      <td>Fernanda</td>\n",
              "      <td>1220</td>\n",
              "      <td>2440</td>\n",
              "    </tr>\n",
              "    <tr>\n",
              "      <th>88</th>\n",
              "      <td>2020-01-30</td>\n",
              "      <td>Filtro ND 5 Stop</td>\n",
              "      <td>2</td>\n",
              "      <td>Raquel</td>\n",
              "      <td>1220</td>\n",
              "      <td>2440</td>\n",
              "    </tr>\n",
              "    <tr>\n",
              "      <th>89</th>\n",
              "      <td>2020-01-31</td>\n",
              "      <td>Lente 50mm f/1.4</td>\n",
              "      <td>2</td>\n",
              "      <td>Carlos</td>\n",
              "      <td>1649</td>\n",
              "      <td>3298</td>\n",
              "    </tr>\n",
              "  </tbody>\n",
              "</table>\n",
              "<p>90 rows × 6 columns</p>\n",
              "</div>"
            ],
            "text/plain": [
              "   Data da Venda                 Item  ...  Preço Unitário Total de Vendas\n",
              "0     2020-01-02     Filtro ND 5 Stop  ...            1220            2440\n",
              "1     2020-01-03     Filtro ND 5 Stop  ...            1220            2440\n",
              "2     2020-01-03  Lente 16-35mm f/2.8  ...            8997           17994\n",
              "3     2020-01-04  Lente 16-35mm f/2.8  ...            8997           17994\n",
              "4     2020-01-04     Filtro ND 3 Stop  ...            1220            1220\n",
              "..           ...                  ...  ...             ...             ...\n",
              "85    2020-01-29  Lente 16-35mm f/2.8  ...            8997           17994\n",
              "86    2020-01-29     Filtro ND 2 Stop  ...            1220            1220\n",
              "87    2020-01-30     Filtro ND 3 Stop  ...            1220            2440\n",
              "88    2020-01-30     Filtro ND 5 Stop  ...            1220            2440\n",
              "89    2020-01-31     Lente 50mm f/1.4  ...            1649            3298\n",
              "\n",
              "[90 rows x 6 columns]"
            ]
          },
          "metadata": {
            "tags": []
          },
          "execution_count": 16
        }
      ]
    },
    {
      "cell_type": "code",
      "metadata": {
        "id": "05Ox8XvqwqSO",
        "colab_type": "code",
        "colab": {
          "base_uri": "https://localhost:8080/",
          "height": 233
        },
        "outputId": "cba2735e-3739-41f9-ae03-4f2a3bdb9fcf"
      },
      "source": [
        "# verificando a coluna Data da Venda\n",
        "vendas[\"Data da Venda\"]"
      ],
      "execution_count": null,
      "outputs": [
        {
          "output_type": "execute_result",
          "data": {
            "text/plain": [
              "0    2020-01-02\n",
              "1    2020-01-03\n",
              "2    2020-01-03\n",
              "3    2020-01-04\n",
              "4    2020-01-04\n",
              "        ...    \n",
              "85   2020-01-29\n",
              "86   2020-01-29\n",
              "87   2020-01-30\n",
              "88   2020-01-30\n",
              "89   2020-01-31\n",
              "Name: Data da Venda, Length: 90, dtype: datetime64[ns]"
            ]
          },
          "metadata": {
            "tags": []
          },
          "execution_count": 17
        }
      ]
    },
    {
      "cell_type": "code",
      "metadata": {
        "id": "s_I_BkMjwu3g",
        "colab_type": "code",
        "colab": {
          "base_uri": "https://localhost:8080/",
          "height": 283
        },
        "outputId": "06b42223-8500-4844-9577-c2a83c78be52"
      },
      "source": [
        "# visualizando histograma de vendas por dia da semana\n",
        "vendas[\"Data da Venda\"].apply(lambda x: x.weekday()).hist(bins=7)"
      ],
      "execution_count": null,
      "outputs": [
        {
          "output_type": "execute_result",
          "data": {
            "text/plain": [
              "<matplotlib.axes._subplots.AxesSubplot at 0x7f8e3baa30b8>"
            ]
          },
          "metadata": {
            "tags": []
          },
          "execution_count": 18
        },
        {
          "output_type": "display_data",
          "data": {
            "image/png": "[encoded data removed]",
            "text/plain": [
              "<Figure size 432x288 with 1 Axes>"
            ]
          },
          "metadata": {
            "tags": [],
            "needs_background": "light"
          }
        }
      ]
    },
    {
      "cell_type": "code",
      "metadata": {
        "id": "kk1UcPe0xM8L",
        "colab_type": "code",
        "colab": {}
      },
      "source": [
        ""
      ],
      "execution_count": null,
      "outputs": []
    }
  ]
}