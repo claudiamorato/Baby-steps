{
  "nbformat": 4,
  "nbformat_minor": 0,
  "metadata": {
    "colab": {
      "name": "PDF reports",
      "provenance": [],
      "collapsed_sections": [],
      "toc_visible": true,
      "authorship_tag": "ABX9TyO65KyEpdcdgL7ZR8kgjXUi",
      "include_colab_link": true
    },
    "kernelspec": {
      "name": "python3",
      "display_name": "Python 3"
    }
  },
  "cells": [
    {
      "cell_type": "markdown",
      "metadata": {
        "id": "view-in-github",
        "colab_type": "text"
      },
      "source": [
        "<a href=\"https://colab.research.google.com/github/claudiamorato/Baby-steps/blob/master/PDF_reports.ipynb\" target=\"_parent\"><img src=\"https://colab.research.google.com/assets/colab-badge.svg\" alt=\"Open In Colab\"/></a>"
      ]
    },
    {
      "cell_type": "code",
      "metadata": {
        "id": "lt1_tp8BZ2r6",
        "colab_type": "code",
        "colab": {
          "base_uri": "https://localhost:8080/",
          "height": 153
        },
        "outputId": "f1d7aa60-7bdf-4b78-edbc-bb3b866f31f2"
      },
      "source": [
        "!pip install pdf_reports -q"
      ],
      "execution_count": 1,
      "outputs": [
        {
          "output_type": "stream",
          "text": [
            "\u001b[K     |████████████████████████████████| 122kB 2.7MB/s \n",
            "\u001b[K     |████████████████████████████████| 368kB 11.8MB/s \n",
            "\u001b[K     |████████████████████████████████| 3.0MB 14.2MB/s \n",
            "\u001b[K     |████████████████████████████████| 51kB 3.8MB/s \n",
            "\u001b[K     |████████████████████████████████| 71kB 4.8MB/s \n",
            "\u001b[K     |████████████████████████████████| 71kB 3.3MB/s \n",
            "\u001b[?25h  Building wheel for pdf-reports (setup.py) ... \u001b[?25l\u001b[?25hdone\n",
            "  Building wheel for cairocffi (setup.py) ... \u001b[?25l\u001b[?25hdone\n"
          ],
          "name": "stdout"
        }
      ]
    },
    {
      "cell_type": "code",
      "metadata": {
        "id": "CP8EVo9GafBA",
        "colab_type": "code",
        "colab": {}
      },
      "source": [
        "import pandas as pd\n",
        "from datetime import datetime\n",
        "from pdf_reports import pug_to_html, write_report\n"
      ],
      "execution_count": 4,
      "outputs": []
    },
    {
      "cell_type": "code",
      "metadata": {
        "id": "jKGKFIIoa57v",
        "colab_type": "code",
        "colab": {}
      },
      "source": [
        "planilha = pd.read_excel(\"/content/controle_de_abacates_atualizado.xlsx\")"
      ],
      "execution_count": 19,
      "outputs": []
    },
    {
      "cell_type": "code",
      "metadata": {
        "id": "K5MEQ4rTdS8-",
        "colab_type": "code",
        "colab": {
          "base_uri": "https://localhost:8080/",
          "height": 419
        },
        "outputId": "300ed325-229c-46f8-c2f9-8fd488ecc76f"
      },
      "source": [
        "planilha"
      ],
      "execution_count": 20,
      "outputs": [
        {
          "output_type": "execute_result",
          "data": {
            "text/html": [
              "<div>\n",
              "<style scoped>\n",
              "    .dataframe tbody tr th:only-of-type {\n",
              "        vertical-align: middle;\n",
              "    }\n",
              "\n",
              "    .dataframe tbody tr th {\n",
              "        vertical-align: top;\n",
              "    }\n",
              "\n",
              "    .dataframe thead th {\n",
              "        text-align: right;\n",
              "    }\n",
              "</style>\n",
              "<table border=\"1\" class=\"dataframe\">\n",
              "  <thead>\n",
              "    <tr style=\"text-align: right;\">\n",
              "      <th></th>\n",
              "      <th>id</th>\n",
              "      <th>data</th>\n",
              "      <th>preco_medio</th>\n",
              "      <th>volume_total</th>\n",
              "      <th>tipo</th>\n",
              "      <th>ano</th>\n",
              "    </tr>\n",
              "  </thead>\n",
              "  <tbody>\n",
              "    <tr>\n",
              "      <th>0</th>\n",
              "      <td>1</td>\n",
              "      <td>2017-01-01</td>\n",
              "      <td>2.06</td>\n",
              "      <td>39260.55</td>\n",
              "      <td>Orgânico</td>\n",
              "      <td>2017</td>\n",
              "    </tr>\n",
              "    <tr>\n",
              "      <th>1</th>\n",
              "      <td>2</td>\n",
              "      <td>2017-01-08</td>\n",
              "      <td>2.15</td>\n",
              "      <td>42755.80</td>\n",
              "      <td>Orgânico</td>\n",
              "      <td>2017</td>\n",
              "    </tr>\n",
              "    <tr>\n",
              "      <th>2</th>\n",
              "      <td>3</td>\n",
              "      <td>2017-01-15</td>\n",
              "      <td>2.09</td>\n",
              "      <td>42233.25</td>\n",
              "      <td>Orgânico</td>\n",
              "      <td>2017</td>\n",
              "    </tr>\n",
              "    <tr>\n",
              "      <th>3</th>\n",
              "      <td>4</td>\n",
              "      <td>2017-01-22</td>\n",
              "      <td>2.05</td>\n",
              "      <td>49056.11</td>\n",
              "      <td>Orgânico</td>\n",
              "      <td>2017</td>\n",
              "    </tr>\n",
              "    <tr>\n",
              "      <th>4</th>\n",
              "      <td>5</td>\n",
              "      <td>2017-01-29</td>\n",
              "      <td>2.08</td>\n",
              "      <td>46602.16</td>\n",
              "      <td>Convencional</td>\n",
              "      <td>2017</td>\n",
              "    </tr>\n",
              "    <tr>\n",
              "      <th>...</th>\n",
              "      <td>...</td>\n",
              "      <td>...</td>\n",
              "      <td>...</td>\n",
              "      <td>...</td>\n",
              "      <td>...</td>\n",
              "      <td>...</td>\n",
              "    </tr>\n",
              "    <tr>\n",
              "      <th>67</th>\n",
              "      <td>68</td>\n",
              "      <td>2018-04-15</td>\n",
              "      <td>1.59</td>\n",
              "      <td>71760.69</td>\n",
              "      <td>Orgânico</td>\n",
              "      <td>2018</td>\n",
              "    </tr>\n",
              "    <tr>\n",
              "      <th>68</th>\n",
              "      <td>69</td>\n",
              "      <td>2018-04-22</td>\n",
              "      <td>1.70</td>\n",
              "      <td>96380.28</td>\n",
              "      <td>Orgânico</td>\n",
              "      <td>2018</td>\n",
              "    </tr>\n",
              "    <tr>\n",
              "      <th>69</th>\n",
              "      <td>70</td>\n",
              "      <td>2018-04-29</td>\n",
              "      <td>1.90</td>\n",
              "      <td>74312.90</td>\n",
              "      <td>Convencional</td>\n",
              "      <td>2018</td>\n",
              "    </tr>\n",
              "    <tr>\n",
              "      <th>70</th>\n",
              "      <td>71</td>\n",
              "      <td>2018-05-06</td>\n",
              "      <td>1.84</td>\n",
              "      <td>68466.86</td>\n",
              "      <td>Convencional</td>\n",
              "      <td>2018</td>\n",
              "    </tr>\n",
              "    <tr>\n",
              "      <th>71</th>\n",
              "      <td>72</td>\n",
              "      <td>2018-05-13</td>\n",
              "      <td>1.65</td>\n",
              "      <td>74312.90</td>\n",
              "      <td>Convencional</td>\n",
              "      <td>2018</td>\n",
              "    </tr>\n",
              "  </tbody>\n",
              "</table>\n",
              "<p>72 rows × 6 columns</p>\n",
              "</div>"
            ],
            "text/plain": [
              "    id       data  preco_medio  volume_total          tipo   ano\n",
              "0    1 2017-01-01         2.06      39260.55      Orgânico  2017\n",
              "1    2 2017-01-08         2.15      42755.80      Orgânico  2017\n",
              "2    3 2017-01-15         2.09      42233.25      Orgânico  2017\n",
              "3    4 2017-01-22         2.05      49056.11      Orgânico  2017\n",
              "4    5 2017-01-29         2.08      46602.16  Convencional  2017\n",
              "..  ..        ...          ...           ...           ...   ...\n",
              "67  68 2018-04-15         1.59      71760.69      Orgânico  2018\n",
              "68  69 2018-04-22         1.70      96380.28      Orgânico  2018\n",
              "69  70 2018-04-29         1.90      74312.90  Convencional  2018\n",
              "70  71 2018-05-06         1.84      68466.86  Convencional  2018\n",
              "71  72 2018-05-13         1.65      74312.90  Convencional  2018\n",
              "\n",
              "[72 rows x 6 columns]"
            ]
          },
          "metadata": {
            "tags": []
          },
          "execution_count": 20
        }
      ]
    },
    {
      "cell_type": "code",
      "metadata": {
        "id": "NeDMvnMOdVPO",
        "colab_type": "code",
        "colab": {}
      },
      "source": [
        "hoje = datetime.now()"
      ],
      "execution_count": 21,
      "outputs": []
    },
    {
      "cell_type": "code",
      "metadata": {
        "id": "TY2feCvrdndt",
        "colab_type": "code",
        "colab": {
          "base_uri": "https://localhost:8080/",
          "height": 291
        },
        "outputId": "dd63547c-8194-4ecf-a373-aab4072ed0a2"
      },
      "source": [
        "html = pug_to_html (\"/content/modelo_de_relatorio.pug\", planilha=planilha, hoje=hoje)"
      ],
      "execution_count": 26,
      "outputs": [
        {
          "output_type": "display_data",
          "data": {
            "image/png": "[encoded data removed]",
            "text/plain": [
              "<Figure size 432x288 with 1 Axes>"
            ]
          },
          "metadata": {
            "tags": [],
            "needs_background": "light"
          }
        }
      ]
    },
    {
      "cell_type": "code",
      "metadata": {
        "id": "6S5Rx_qnd80m",
        "colab_type": "code",
        "colab": {
          "base_uri": "https://localhost:8080/",
          "height": 188
        },
        "outputId": "0b767f56-ad77-4f3f-9035-78f1506264a5"
      },
      "source": [
        "html"
      ],
      "execution_count": 27,
      "outputs": [
        {
          "output_type": "execute_result",
          "data": {
            "application/vnd.google.colaboratory.intrinsic+json": {
              "type": "string"
            },
            "text/plain": [
              "'<style lang=\"scss\">@page {\\n  margin: 1cm 0 2cm 0cm;\\n  @bottom-center {\\n    content: \"\";\\n  }\\n}\\n</style><img style=\"width:150px; display:block; margin:0 auto;\" src=\"https://raw.githubusercontent.com/carlosfab/escola-data-science/master/img/novo_logo_bg_claro.png\"/>\\n<div id=\"sidebar\">\\n  <p>Atualizado por Carlos Melo - 2020-08-15 23:38:37.354325</p>\\n</div>\\n<h1>Relatório de Controle de Abacates</h1>\\n<div class=\"ui piled segment\">\\n  <p>Este relatório é parte de um exercício prático da Semana Python, evento online gratuito do\\n<a href=\"https://sigmoidal.ai\">Sigmoidal</a>, e tem a finalidade de divulgar e promover \\nPython e Data Science no Brasil.\\n  </p>\\n</div>\\n<p><strong><em>Gerado automaticamente e conferido pelo analista Carlos Melo.</em></strong></p>\\n<p><code>controle_abacates_2020-08-15 23:38:37.354325.pdf</code></p>\\n<p>Para maiores informações sobre o autor da Semana Python, acesso o <a href=\"http://linkedin.com/in/carlosfab/\">perfil do LinkedIn</a> \\ne siga o <a href=\"http://youtube.com/c/carlosmelosigmoidal\">canal do Youtube</a> para acompanhar os últimos \\nartigos e tutoriais relacionados a Python e Data Science. Obrigado pela participação no evento.</p>\\n<div class=\"ui container\">\\n  <div class=\"ui icon message yellow block-center\"><i class=\"exclamation circle icon\"></i>\\n    <div class=\"content\">\\n      <div class=\"header\">Informações atualizadas do último dia.</div>\\n      <p>Os últimos lançamentos deste relatório dizem respeito ao dia \\n13/5/2018, \\nonde o preço médio do abacate foi R$ 1.65 e o volume total de vendas foi \\nde 74312.9 kg.\\n      </p>\\n    </div>\\n  </div>\\n</div>\\n<h2>Informações Atualizadas</h2>\\n<p>Até o presente momento, o relatório considera 72 entradas. \\nO povo está feliz tem futebol com a ferroviária da morada do sol. \\nAvinhado na camisa que emoção salve ferroviária do meu coração. \\nFerroviária, amo você em qualquer hora e tempo seu lema é vencer.:</p>\\n<center><img src=\"data:image/png+xml;base64,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\"/>\\n</center><h3>Últimos lançamentos</h3>\\n<p>O povo está feliz tem futebol com a ferroviária da morada do sol. \\nAvinhado na camisa que emoção salve ferroviária do meu coração. </p><table border=\"1\" class=\"dataframe ui compact celled striped table groups\">\\n  <thead>\\n    <tr style=\"text-align: right;\">\\n      <th>id</th>\\n      <th>data</th>\\n      <th>preco_medio</th>\\n      <th>volume_total</th>\\n      <th>tipo</th>\\n      <th>ano</th>\\n    </tr>\\n  </thead>\\n  <tbody>\\n    <tr>\\n      <td>66</td>\\n      <td>2018-04-01</td>\\n      <td>1.40</td>\\n      <td>82637.97</td>\\n      <td>Orgânico</td>\\n      <td>2018</td>\\n    </tr>\\n    <tr>\\n      <td>67</td>\\n      <td>2018-04-08</td>\\n      <td>1.49</td>\\n      <td>86632.25</td>\\n      <td>Convencional</td>\\n      <td>2018</td>\\n    </tr>\\n    <tr>\\n      <td>68</td>\\n      <td>2018-04-15</td>\\n      <td>1.59</td>\\n      <td>71760.69</td>\\n      <td>Orgânico</td>\\n      <td>2018</td>\\n    </tr>\\n    <tr>\\n      <td>69</td>\\n      <td>2018-04-22</td>\\n      <td>1.70</td>\\n      <td>96380.28</td>\\n      <td>Orgânico</td>\\n      <td>2018</td>\\n    </tr>\\n    <tr>\\n      <td>70</td>\\n      <td>2018-04-29</td>\\n      <td>1.90</td>\\n      <td>74312.90</td>\\n      <td>Convencional</td>\\n      <td>2018</td>\\n    </tr>\\n    <tr>\\n      <td>71</td>\\n      <td>2018-05-06</td>\\n      <td>1.84</td>\\n      <td>68466.86</td>\\n      <td>Convencional</td>\\n      <td>2018</td>\\n    </tr>\\n    <tr>\\n      <td>72</td>\\n      <td>2018-05-13</td>\\n      <td>1.65</td>\\n      <td>74312.90</td>\\n      <td>Convencional</td>\\n      <td>2018</td>\\n    </tr>\\n  </tbody>\\n</table>\\n\\n<p class=\"main-paragraph\">Foi um prazer ter você durante a Semana Python.</p>'"
            ]
          },
          "metadata": {
            "tags": []
          },
          "execution_count": 27
        }
      ]
    },
    {
      "cell_type": "code",
      "metadata": {
        "id": "kp0EIYFpd_U9",
        "colab_type": "code",
        "colab": {}
      },
      "source": [
        "write_report (html,\"controle_abacates_relatorio.pdf\")"
      ],
      "execution_count": 28,
      "outputs": []
    },
    {
      "cell_type": "code",
      "metadata": {
        "id": "8Q9wBGtTeJFX",
        "colab_type": "code",
        "colab": {}
      },
      "source": [
        ""
      ],
      "execution_count": null,
      "outputs": []
    }
  ]
}